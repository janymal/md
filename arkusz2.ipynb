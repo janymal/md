{
 "cells": [
  {
   "cell_type": "code",
   "execution_count": 2,
   "metadata": {},
   "outputs": [],
   "source": [
    "import itertools"
   ]
  },
  {
   "cell_type": "markdown",
   "metadata": {},
   "source": [
    "### Zadanie 1.\n",
    "...rozsadzić przy okrągłym stole z k + m miejscami k kobiet i m\n",
    "mężczyzn, tak by wszystkie kobiety siedziały obok siebie?\n"
   ]
  },
  {
   "cell_type": "code",
   "execution_count": null,
   "metadata": {},
   "outputs": [],
   "source": [
    "k = 2\n",
    "m = 3\n",
    "_k = {\"k\" + str(num) for num in range(k)}\n",
    "_m = {\"m\" + str(num) for num in range(m)}\n",
    "k_perms = set(itertools.permutations(_k))\n",
    "m_perms = set(itertools.permutations(_m))\n",
    "\n",
    "o = set(itertools.chain(itertools.product(k_perms, m_perms), itertools.product(m_perms, k_perms)))\n",
    "print(o)\n",
    "len(o)"
   ]
  },
  {
   "cell_type": "markdown",
   "metadata": {},
   "source": [
    "### Zadanie 2.\n",
    "...rozsadzić przy okrągłym stole z 2n + 1 miejscami n kobiet i n mężczyzn, tak by dwie osoby tej samej płci nie siedziały obok siebie?\n"
   ]
  },
  {
   "cell_type": "code",
   "execution_count": null,
   "metadata": {},
   "outputs": [],
   "source": [
    "n = 2\n",
    "stol = {\"m\" + str(i) for i in range(n)} | {\"0\"}\n",
    "stol.update(\"k\" + str(i) for i in range(n))\n",
    "\n",
    "def flt_1(tup, n):\n",
    "    tup = tup + (tup[0],)\n",
    "    subs = {tup[i:i+n] for i in range(0, len(tup) - 1)}\n",
    "    return all(c[0][0] != c[1][0] for c in subs)\n",
    "\n",
    "o = {p for p in itertools.permutations(stol) if flt_1(p, 2)}\n",
    "print(o)\n",
    "len(o)\n",
    "\n"
   ]
  },
  {
   "cell_type": "markdown",
   "metadata": {},
   "source": [
    "### Zadanie 3.\n",
    "...rozmieścić m rozróżnialnych listów w m rozróżnialnych skrzynkach na listy, tak aby co najmniej 2 były puste?\n"
   ]
  },
  {
   "cell_type": "code",
   "execution_count": 38,
   "metadata": {},
   "outputs": [
    {
     "name": "stdout",
     "output_type": "stream",
     "text": [
      "{(0, 0, 0), (1, 1, 1), (2, 2, 2)}\n"
     ]
    },
    {
     "data": {
      "text/plain": [
       "3"
      ]
     },
     "execution_count": 38,
     "metadata": {},
     "output_type": "execute_result"
    }
   ],
   "source": [
    "m = 3\n",
    "_m = set(range(m))\n",
    "\n",
    "def flt_2(tup):\n",
    "    s = set(tup)\n",
    "    return len(_m - s) >= 2\n",
    "\n",
    "o = {c for c in itertools.combinations_with_replacement(_m, m) if flt_2(c)}\n",
    "print(o)\n",
    "len(o)"
   ]
  },
  {
   "cell_type": "markdown",
   "metadata": {},
   "source": [
    "### Zadanie 4.\n",
    "...wybrać na wyprawę k spośród n rycerzy okrągłego stołu, jeśli nie wolno wybrać żadnych dwóch sąsiadów?\n"
   ]
  },
  {
   "cell_type": "code",
   "execution_count": 14,
   "metadata": {},
   "outputs": [
    {
     "name": "stdout",
     "output_type": "stream",
     "text": [
      "{(0, 2, 4), (1, 3, 5)}\n"
     ]
    },
    {
     "data": {
      "text/plain": [
       "2"
      ]
     },
     "execution_count": 14,
     "metadata": {},
     "output_type": "execute_result"
    }
   ],
   "source": [
    "n = 6\n",
    "k = 3\n",
    "_n = set(range(n))\n",
    "\n",
    "def flt_3(tup):\n",
    "    for i in range(k):\n",
    "        if (tup[i] + 1) % n == tup[(i+1) % k]:\n",
    "            return False\n",
    "    return True\n",
    "\n",
    "o = {c for c in itertools.combinations(_n, k) if flt_3(c)}\n",
    "print(o)\n",
    "len(o)"
   ]
  },
  {
   "cell_type": "markdown",
   "metadata": {},
   "source": [
    "### Zadanie 5.\n",
    "...rozdać 12 nierozróżnialnych jabłek, 1 gruszkę i 1 śliwkę trójce dzieci, tak by każde dostało po przynajmniej jednym owocu?\n"
   ]
  },
  {
   "cell_type": "markdown",
   "metadata": {},
   "source": [
    "### Zadanie 6.\n",
    "...całkowitoliczbowych nieujemnych rozwiązań równania x1+x2+x3+x4=12,takich, że x1>=1 i x3>=­2?\n"
   ]
  },
  {
   "cell_type": "markdown",
   "metadata": {},
   "source": [
    "### Zadanie 7.\n",
    "...rozmieścić 6k osób przy dwóch prostokątnych stołach z ponumero- wanymi miejscami mieszczących odpowiednio 4k i 2k osób, tak by dwie spośród nich, A i B, siedziały przy większym stole, a między nimi było dokładnie k innych osób?\n"
   ]
  },
  {
   "cell_type": "markdown",
   "metadata": {},
   "source": [
    "### Zadanie 8.\n",
    "...najkrótszych dróg prowadzących do miejsca odległego o 5 przecznic na południe i 8 przecznic na wschód w mieście, w którym ulice tworzą idealnie równą kwadratową siatkę, jeśli z powodu upału nie da się iść dwie przecznice na południe pod rząd?"
   ]
  }
 ],
 "metadata": {
  "kernelspec": {
   "display_name": "Python 3.10.8 ('libexec')",
   "language": "python",
   "name": "python3"
  },
  "language_info": {
   "codemirror_mode": {
    "name": "ipython",
    "version": 3
   },
   "file_extension": ".py",
   "mimetype": "text/x-python",
   "name": "python",
   "nbconvert_exporter": "python",
   "pygments_lexer": "ipython3",
   "version": "3.10.8"
  },
  "orig_nbformat": 4,
  "vscode": {
   "interpreter": {
    "hash": "4d221d8f622c026c7d3d0fa5da6e63a3fcb885589bc2e101eb20a5671781e73d"
   }
  }
 },
 "nbformat": 4,
 "nbformat_minor": 2
}
