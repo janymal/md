{
 "cells": [
  {
   "cell_type": "code",
   "execution_count": null,
   "metadata": {},
   "outputs": [],
   "source": [
    "import itertools"
   ]
  },
  {
   "cell_type": "markdown",
   "metadata": {},
   "source": [
    "### Zadanie 1.\n",
    " . . . rozsadzić n osób wokół okrągłego stołu z n + w miejscami?"
   ]
  },
  {
   "cell_type": "code",
   "execution_count": null,
   "metadata": {},
   "outputs": [],
   "source": [
    "n = 3\n",
    "w = 2\n",
    "\n",
    "_n = list(range(n))\n",
    "_w = [None] * w\n",
    "o = {p for p in itertools.permutations(_n + _w)}\n",
    "print(o)\n",
    "len(o)"
   ]
  },
  {
   "cell_type": "markdown",
   "metadata": {},
   "source": [
    "### Zadanie 2.\n",
    ". . . naszyjników zrobionych z n różnokolorowych korali?"
   ]
  },
  {
   "cell_type": "code",
   "execution_count": null,
   "metadata": {},
   "outputs": [],
   "source": [
    "n = 4\n",
    "o = set(itertools.permutations(range(n)))\n",
    "print(o)\n",
    "len(o)"
   ]
  },
  {
   "cell_type": "markdown",
   "metadata": {},
   "source": [
    "### Zadanie 3.\n",
    ". . . ciągów binarnych o a zerach i b jedynkach?"
   ]
  },
  {
   "cell_type": "code",
   "execution_count": null,
   "metadata": {},
   "outputs": [],
   "source": [
    "a = 3\n",
    "b = 2\n",
    "_a = [0] * a\n",
    "_b = [1] * b\n",
    "o = set(itertools.permutations(_a + _b))\n",
    "print(o)\n",
    "len(o)"
   ]
  },
  {
   "cell_type": "markdown",
   "metadata": {},
   "source": [
    "### Zadanie 4.\n",
    "... liczb n–cyfrowych podzielnych przez 9, w których żadna cyfra nie jest dziewiątką?"
   ]
  },
  {
   "cell_type": "code",
   "execution_count": null,
   "metadata": {},
   "outputs": [],
   "source": [
    "n = 3\n",
    "_n = set(range(10**(n - 1), 10**n))\n",
    "\n",
    "def flt_1(num):\n",
    "    return num % 9 == 0 and '9' not in str(num)\n",
    "\n",
    "o = set(filter(flt_1, _n))\n",
    "print(o)\n",
    "len(o)"
   ]
  },
  {
   "cell_type": "markdown",
   "metadata": {},
   "source": [
    "### Zadanie 5.\n",
    "... ustawić w ciąg liczby 0,1,...,9, tak by między 1 i 2 było dokładnie k innych liczb?"
   ]
  },
  {
   "cell_type": "code",
   "execution_count": null,
   "metadata": {},
   "outputs": [],
   "source": [
    "k = 6\n",
    "_num = set(range(10)) - {1, 2}\n",
    "_sub = {(1,) + p + (2,) for p in itertools.permutations(_num, k)}\n",
    "o = set()\n",
    "for s in _sub:\n",
    "    _set = _num - set(s)\n",
    "    _set.add(s)\n",
    "    o.update(itertools.permutations(_set))\n",
    "print(o)\n",
    "len(o)"
   ]
  },
  {
   "cell_type": "markdown",
   "metadata": {},
   "source": [
    "### Zadanie 6.\n",
    ". . . permutacji zbioru {1, 2, . . . , 2n} takich, że żadne dwie liczby parzyste nie są sąsiednie?\n"
   ]
  },
  {
   "cell_type": "code",
   "execution_count": null,
   "metadata": {},
   "outputs": [],
   "source": [
    "n = 4\n",
    "_n = set(range(1, 2*n + 1))\n",
    "\n",
    "def test1(tup):\n",
    "    return all([not (tup[i] % 2 == 0 and tup[i+1] % 2 == 0) for i in range(len(tup) - 1)])\n",
    "o = {c for c in itertools.permutations(_n) if test1(c)}\n",
    "print(o)\n",
    "len(o)"
   ]
  },
  {
   "cell_type": "markdown",
   "metadata": {},
   "source": [
    "### Zadanie 7.\n",
    ". . . punktów przecięcia n prostych, z których k jest wzajemnie równoległych, jeśli wiadomo, że żadne inne nie są równoległe i żadne trzy nie przecinają się w tym samym punkcie?"
   ]
  },
  {
   "cell_type": "code",
   "execution_count": null,
   "metadata": {},
   "outputs": [],
   "source": [
    "n = 5\n",
    "k = 2\n",
    "_n = set(range(k, n))\n",
    "_k = set(range(k))\n",
    "o = {c for c in itertools.combinations(_n,2)} | {i for i in itertools.product(_k,_n)}\n",
    "print(o)\n",
    "len(o)"
   ]
  },
  {
   "cell_type": "markdown",
   "metadata": {},
   "source": [
    "### Zadanie 8.\n",
    ". . . podzielić 2n osób na pary?"
   ]
  },
  {
   "cell_type": "code",
   "execution_count": null,
   "metadata": {},
   "outputs": [],
   "source": [
    "n = 2\n",
    "_n = set(range(2*n))\n",
    "\n",
    "def split_to_fs(tup, n):\n",
    "    return frozenset((frozenset(tup[i:i+n]) for i in range(0, len(tup), n)))\n",
    "\n",
    "o = {split_to_fs(p, 2) for p in itertools.permutations(_n)}\n",
    "o = [list([tuple(s) for s in i]) for i in o]\n",
    "print(o)\n",
    "len(o)"
   ]
  },
  {
   "cell_type": "markdown",
   "metadata": {},
   "source": [
    "### Zadanie 9.\n",
    ". . . permutacji zbioru {1, 2, . . . , 8}, w których każda liczba nieparzysta\n",
    "poprzedza (niekoniecznie bezpośrednio) liczbę o 1 od niej większą?"
   ]
  },
  {
   "cell_type": "code",
   "execution_count": null,
   "metadata": {},
   "outputs": [],
   "source": [
    "_n = set(range(1, 9))\n",
    "# def test2(tup):\n",
    "#     return all([c for c in itertools.combinations(tup, 2)])    \n",
    "\n",
    "def flt_2(tup):\n",
    "    combs = [c for c in itertools.combinations(tup, 2) if abs(c[1] - c[0]) == 1]\n",
    "    return all([b[0] % 2 == 0 for b in combs])\n",
    "\n",
    "o = {p for p in itertools.permutations(_n) if flt_2(p)}\n",
    "print(o)\n",
    "len(o)"
   ]
  },
  {
   "cell_type": "markdown",
   "metadata": {},
   "source": [
    "### Zadanie 10.\n",
    ". . . wybrać z n osób komitet, a z komitetu jego zarząd, jeśli zarówno komitet, jak i zarząd mogą liczyć od 0 do n osób?"
   ]
  },
  {
   "cell_type": "code",
   "execution_count": null,
   "metadata": {},
   "outputs": [],
   "source": [
    "n = 2\n",
    "_n = set(range(n))\n",
    "\n",
    "komitety = {p for i in range(n + 1) for p in itertools.combinations(_n, i)}\n",
    "o = {(k, z) for i in range(n + 1) for k in komitety for z in itertools.combinations(k, i)}\n",
    "\n",
    "print(o)\n",
    "len(o)"
   ]
  }
 ],
 "metadata": {
  "kernelspec": {
   "display_name": "Python 3.10.8 ('libexec')",
   "language": "python",
   "name": "python3"
  },
  "language_info": {
   "codemirror_mode": {
    "name": "ipython",
    "version": 3
   },
   "file_extension": ".py",
   "mimetype": "text/x-python",
   "name": "python",
   "nbconvert_exporter": "python",
   "pygments_lexer": "ipython3",
   "version": "3.10.8"
  },
  "orig_nbformat": 4,
  "vscode": {
   "interpreter": {
    "hash": "4d221d8f622c026c7d3d0fa5da6e63a3fcb885589bc2e101eb20a5671781e73d"
   }
  }
 },
 "nbformat": 4,
 "nbformat_minor": 2
}
